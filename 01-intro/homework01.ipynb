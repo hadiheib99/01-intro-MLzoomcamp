{
 "cells": [
  {
   "cell_type": "code",
   "execution_count": 1,
   "id": "5f29876c",
   "metadata": {},
   "outputs": [
    {
     "name": "stdout",
     "output_type": "stream",
     "text": [
      "2.3.1\n",
      "[0. 0. 0. 0. 0.]\n"
     ]
    }
   ],
   "source": [
    "import pandas as pd\n",
    "import numpy as np\n",
    "\n",
    "# Check NumPy version\n",
    "print(np.__version__)\n",
    "\n",
    "# Create array of zeros\n",
    "print(np.zeros(5))"
   ]
  },
  {
   "cell_type": "code",
   "execution_count": 7,
   "id": "91735c8b",
   "metadata": {},
   "outputs": [],
   "source": [
    "df = pd.read_csv('https://raw.githubusercontent.com/alexeygrigorev/datasets/master/car_fuel_efficiency.csv')"
   ]
  },
  {
   "cell_type": "code",
   "execution_count": null,
   "id": "da2e2dfd",
   "metadata": {},
   "outputs": [
    {
     "name": "stdout",
     "output_type": "stream",
     "text": [
      "Number of records: 9704\n",
      "DataFrame shape (rows, columns): (9704, 11)\n",
      "Total records: 9704\n",
      "Total columns: 11\n"
     ]
    }
   ],
   "source": [
    "# Find number of records in the DataFrame\n",
    "print(f\"Number of records: {len(df)}\")\n"
   ]
  },
  {
   "cell_type": "code",
   "execution_count": 33,
   "id": "b67cadfe",
   "metadata": {},
   "outputs": [
    {
     "name": "stdout",
     "output_type": "stream",
     "text": [
      "Number of unique fuel types: 2\n"
     ]
    }
   ],
   "source": [
    "\n",
    "fuel_types = df['fuel_type'].nunique()\n",
    "\n",
    "print(f\"Number of unique fuel types: {fuel_types}\")"
   ]
  },
  {
   "cell_type": "code",
   "execution_count": null,
   "id": "3600c97d",
   "metadata": {},
   "outputs": [
    {
     "name": "stdout",
     "output_type": "stream",
     "text": [
      "Missing values per column:\n",
      "engine_displacement      0\n",
      "num_cylinders          482\n",
      "horsepower             708\n",
      "vehicle_weight           0\n",
      "acceleration           930\n",
      "model_year               0\n",
      "origin                   0\n",
      "fuel_type                0\n",
      "drivetrain               0\n",
      "num_doors              502\n",
      "fuel_efficiency_mpg      0\n",
      "dtype: int64\n"
     ]
    }
   ],
   "source": [
    "missing_values = df.isnull().sum()\n",
    "print(missing_values)\n",
    "\n"
   ]
  },
  {
   "cell_type": "code",
   "execution_count": 23,
   "id": "8c2752d5",
   "metadata": {},
   "outputs": [
    {
     "data": {
      "text/html": [
       "<div>\n",
       "<style scoped>\n",
       "    .dataframe tbody tr th:only-of-type {\n",
       "        vertical-align: middle;\n",
       "    }\n",
       "\n",
       "    .dataframe tbody tr th {\n",
       "        vertical-align: top;\n",
       "    }\n",
       "\n",
       "    .dataframe thead th {\n",
       "        text-align: right;\n",
       "    }\n",
       "</style>\n",
       "<table border=\"1\" class=\"dataframe\">\n",
       "  <thead>\n",
       "    <tr style=\"text-align: right;\">\n",
       "      <th></th>\n",
       "      <th>engine_displacement</th>\n",
       "      <th>num_cylinders</th>\n",
       "      <th>horsepower</th>\n",
       "      <th>vehicle_weight</th>\n",
       "      <th>acceleration</th>\n",
       "      <th>model_year</th>\n",
       "      <th>origin</th>\n",
       "      <th>fuel_type</th>\n",
       "      <th>drivetrain</th>\n",
       "      <th>num_doors</th>\n",
       "    </tr>\n",
       "    <tr>\n",
       "      <th>fuel_efficiency_mpg</th>\n",
       "      <th></th>\n",
       "      <th></th>\n",
       "      <th></th>\n",
       "      <th></th>\n",
       "      <th></th>\n",
       "      <th></th>\n",
       "      <th></th>\n",
       "      <th></th>\n",
       "      <th></th>\n",
       "      <th></th>\n",
       "    </tr>\n",
       "  </thead>\n",
       "  <tbody>\n",
       "    <tr>\n",
       "      <th>6.200971</th>\n",
       "      <td>90</td>\n",
       "      <td>3.0</td>\n",
       "      <td>174.0</td>\n",
       "      <td>4726.977269</td>\n",
       "      <td>16.5</td>\n",
       "      <td>2020</td>\n",
       "      <td>Europe</td>\n",
       "      <td>Diesel</td>\n",
       "      <td>Front-wheel drive</td>\n",
       "      <td>1.0</td>\n",
       "    </tr>\n",
       "    <tr>\n",
       "      <th>6.676475</th>\n",
       "      <td>220</td>\n",
       "      <td>0.0</td>\n",
       "      <td>132.0</td>\n",
       "      <td>4643.568672</td>\n",
       "      <td>15.2</td>\n",
       "      <td>2020</td>\n",
       "      <td>Europe</td>\n",
       "      <td>Diesel</td>\n",
       "      <td>All-wheel drive</td>\n",
       "      <td>1.0</td>\n",
       "    </tr>\n",
       "    <tr>\n",
       "      <th>6.695483</th>\n",
       "      <td>160</td>\n",
       "      <td>1.0</td>\n",
       "      <td>166.0</td>\n",
       "      <td>4604.494580</td>\n",
       "      <td>16.4</td>\n",
       "      <td>2007</td>\n",
       "      <td>USA</td>\n",
       "      <td>Diesel</td>\n",
       "      <td>All-wheel drive</td>\n",
       "      <td>0.0</td>\n",
       "    </tr>\n",
       "    <tr>\n",
       "      <th>6.762991</th>\n",
       "      <td>220</td>\n",
       "      <td>4.0</td>\n",
       "      <td>144.0</td>\n",
       "      <td>4527.955273</td>\n",
       "      <td>21.9</td>\n",
       "      <td>2023</td>\n",
       "      <td>Europe</td>\n",
       "      <td>Gasoline</td>\n",
       "      <td>All-wheel drive</td>\n",
       "      <td>-1.0</td>\n",
       "    </tr>\n",
       "    <tr>\n",
       "      <th>6.805975</th>\n",
       "      <td>130</td>\n",
       "      <td>1.0</td>\n",
       "      <td>165.0</td>\n",
       "      <td>4739.077089</td>\n",
       "      <td>NaN</td>\n",
       "      <td>2008</td>\n",
       "      <td>USA</td>\n",
       "      <td>Diesel</td>\n",
       "      <td>All-wheel drive</td>\n",
       "      <td>-1.0</td>\n",
       "    </tr>\n",
       "    <tr>\n",
       "      <th>...</th>\n",
       "      <td>...</td>\n",
       "      <td>...</td>\n",
       "      <td>...</td>\n",
       "      <td>...</td>\n",
       "      <td>...</td>\n",
       "      <td>...</td>\n",
       "      <td>...</td>\n",
       "      <td>...</td>\n",
       "      <td>...</td>\n",
       "      <td>...</td>\n",
       "    </tr>\n",
       "    <tr>\n",
       "      <th>23.369176</th>\n",
       "      <td>140</td>\n",
       "      <td>2.0</td>\n",
       "      <td>113.0</td>\n",
       "      <td>1336.444231</td>\n",
       "      <td>16.2</td>\n",
       "      <td>2015</td>\n",
       "      <td>Europe</td>\n",
       "      <td>Diesel</td>\n",
       "      <td>Front-wheel drive</td>\n",
       "      <td>1.0</td>\n",
       "    </tr>\n",
       "    <tr>\n",
       "      <th>23.556075</th>\n",
       "      <td>240</td>\n",
       "      <td>5.0</td>\n",
       "      <td>151.0</td>\n",
       "      <td>1314.839625</td>\n",
       "      <td>15.0</td>\n",
       "      <td>2012</td>\n",
       "      <td>USA</td>\n",
       "      <td>Gasoline</td>\n",
       "      <td>Front-wheel drive</td>\n",
       "      <td>0.0</td>\n",
       "    </tr>\n",
       "    <tr>\n",
       "      <th>23.759123</th>\n",
       "      <td>330</td>\n",
       "      <td>3.0</td>\n",
       "      <td>136.0</td>\n",
       "      <td>1223.298226</td>\n",
       "      <td>NaN</td>\n",
       "      <td>2001</td>\n",
       "      <td>Asia</td>\n",
       "      <td>Gasoline</td>\n",
       "      <td>Front-wheel drive</td>\n",
       "      <td>1.0</td>\n",
       "    </tr>\n",
       "    <tr>\n",
       "      <th>24.971452</th>\n",
       "      <td>180</td>\n",
       "      <td>2.0</td>\n",
       "      <td>188.0</td>\n",
       "      <td>1066.328301</td>\n",
       "      <td>NaN</td>\n",
       "      <td>2013</td>\n",
       "      <td>USA</td>\n",
       "      <td>Gasoline</td>\n",
       "      <td>Front-wheel drive</td>\n",
       "      <td>2.0</td>\n",
       "    </tr>\n",
       "    <tr>\n",
       "      <th>25.967222</th>\n",
       "      <td>210</td>\n",
       "      <td>3.0</td>\n",
       "      <td>206.0</td>\n",
       "      <td>952.681761</td>\n",
       "      <td>18.5</td>\n",
       "      <td>2015</td>\n",
       "      <td>Europe</td>\n",
       "      <td>Gasoline</td>\n",
       "      <td>Front-wheel drive</td>\n",
       "      <td>-1.0</td>\n",
       "    </tr>\n",
       "  </tbody>\n",
       "</table>\n",
       "<p>9704 rows × 10 columns</p>\n",
       "</div>"
      ],
      "text/plain": [
       "                     engine_displacement  num_cylinders  horsepower  \\\n",
       "fuel_efficiency_mpg                                                   \n",
       "6.200971                              90            3.0       174.0   \n",
       "6.676475                             220            0.0       132.0   \n",
       "6.695483                             160            1.0       166.0   \n",
       "6.762991                             220            4.0       144.0   \n",
       "6.805975                             130            1.0       165.0   \n",
       "...                                  ...            ...         ...   \n",
       "23.369176                            140            2.0       113.0   \n",
       "23.556075                            240            5.0       151.0   \n",
       "23.759123                            330            3.0       136.0   \n",
       "24.971452                            180            2.0       188.0   \n",
       "25.967222                            210            3.0       206.0   \n",
       "\n",
       "                     vehicle_weight  acceleration  model_year  origin  \\\n",
       "fuel_efficiency_mpg                                                     \n",
       "6.200971                4726.977269          16.5        2020  Europe   \n",
       "6.676475                4643.568672          15.2        2020  Europe   \n",
       "6.695483                4604.494580          16.4        2007     USA   \n",
       "6.762991                4527.955273          21.9        2023  Europe   \n",
       "6.805975                4739.077089           NaN        2008     USA   \n",
       "...                             ...           ...         ...     ...   \n",
       "23.369176               1336.444231          16.2        2015  Europe   \n",
       "23.556075               1314.839625          15.0        2012     USA   \n",
       "23.759123               1223.298226           NaN        2001    Asia   \n",
       "24.971452               1066.328301           NaN        2013     USA   \n",
       "25.967222                952.681761          18.5        2015  Europe   \n",
       "\n",
       "                    fuel_type         drivetrain  num_doors  \n",
       "fuel_efficiency_mpg                                          \n",
       "6.200971               Diesel  Front-wheel drive        1.0  \n",
       "6.676475               Diesel    All-wheel drive        1.0  \n",
       "6.695483               Diesel    All-wheel drive        0.0  \n",
       "6.762991             Gasoline    All-wheel drive       -1.0  \n",
       "6.805975               Diesel    All-wheel drive       -1.0  \n",
       "...                       ...                ...        ...  \n",
       "23.369176              Diesel  Front-wheel drive        1.0  \n",
       "23.556075            Gasoline  Front-wheel drive        0.0  \n",
       "23.759123            Gasoline  Front-wheel drive        1.0  \n",
       "24.971452            Gasoline  Front-wheel drive        2.0  \n",
       "25.967222            Gasoline  Front-wheel drive       -1.0  \n",
       "\n",
       "[9704 rows x 10 columns]"
      ]
     },
     "execution_count": 23,
     "metadata": {},
     "output_type": "execute_result"
    }
   ],
   "source": [
    "df.groupby('fuel_efficiency_mpg').max()"
   ]
  },
  {
   "cell_type": "code",
   "execution_count": 25,
   "id": "04d00660",
   "metadata": {},
   "outputs": [
    {
     "data": {
      "text/plain": [
       "np.float64(149.0)"
      ]
     },
     "execution_count": 25,
     "metadata": {},
     "output_type": "execute_result"
    }
   ],
   "source": [
    "df['horsepower'].median()"
   ]
  },
  {
   "cell_type": "code",
   "execution_count": 29,
   "id": "6c8796b0",
   "metadata": {},
   "outputs": [
    {
     "data": {
      "text/plain": [
       "np.float64(29124430.759692907)"
      ]
     },
     "execution_count": 29,
     "metadata": {},
     "output_type": "execute_result"
    }
   ],
   "source": [
    "df['vehicle_weight'].sum()\n"
   ]
  }
 ],
 "metadata": {
  "kernelspec": {
   "display_name": "Python 3",
   "language": "python",
   "name": "python3"
  },
  "language_info": {
   "codemirror_mode": {
    "name": "ipython",
    "version": 3
   },
   "file_extension": ".py",
   "mimetype": "text/x-python",
   "name": "python",
   "nbconvert_exporter": "python",
   "pygments_lexer": "ipython3",
   "version": "3.12.1"
  }
 },
 "nbformat": 4,
 "nbformat_minor": 5
}
